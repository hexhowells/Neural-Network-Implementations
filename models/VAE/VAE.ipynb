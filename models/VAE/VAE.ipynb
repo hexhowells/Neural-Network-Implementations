{
 "cells": [
  {
   "cell_type": "code",
   "execution_count": 3,
   "id": "4a511d7f-77b3-4333-8ae9-c576ed302570",
   "metadata": {},
   "outputs": [],
   "source": [
    "import torch\n",
    "from torch import nn\n",
    "import numpy as np"
   ]
  },
  {
   "cell_type": "code",
   "execution_count": null,
   "id": "74db94cb-7490-446a-b031-ebc377a046d8",
   "metadata": {},
   "outputs": [],
   "source": []
  },
  {
   "cell_type": "code",
   "execution_count": 5,
   "id": "ea692b9b-a5bf-4f53-b050-a679593bda40",
   "metadata": {},
   "outputs": [],
   "source": [
    "class Encoder(nn.Module):\n",
    "    def __init__(self, in_channels=3, latent_dim=20):\n",
    "        super().__init__()\n",
    "\n",
    "        dims = [in_channels, 32, 64, 128, 256, 512]\n",
    "        layers = []\n",
    "        for in_dim, out_dim in zip(dims, dims[1:]):\n",
    "            layers.append(\n",
    "                nn.Sequential(\n",
    "                    nn.Conv2d(in_dim, out_dim, kernel_size=3, stride=2, padding=1),\n",
    "                    nn.BatchNorm(out_dim),\n",
    "                    nn.LeakyReLU()\n",
    "                )\n",
    "            )\n",
    "\n",
    "        self.encoder = nn.Sequential(*layers)\n",
    "        self.fc_mu = nn.Linear(dims[-1]*4, latent_dim)\n",
    "        self.fc_var = nn.Linear(dims[-1]*4, latent_dim)\n",
    "\n",
    "    def forward(self, x):\n",
    "        x = self.encoder(x)\n",
    "        x = torch.flatten(x, start_dim=1)\n",
    "        mu = self.fc_mu(x)\n",
    "        log_var = self.fc_var(x)\n",
    "\n",
    "        return mu, log_var"
   ]
  },
  {
   "cell_type": "code",
   "execution_count": 6,
   "id": "b2b4372e-0600-4fe2-9668-a4ee70ff8eb3",
   "metadata": {},
   "outputs": [],
   "source": [
    "class Decoder(nn.Module):\n",
    "    def __init__(self, out_channels=3, latent_dim=20):\n",
    "        super().__init__()\n",
    "\n",
    "        dims = [512, 256, 128, 64, 32]\n",
    "        layers = []\n",
    "\n",
    "        for in_dim, out_dim in zip(dims, dims[1:]):\n",
    "            layers.append(\n",
    "                nn.Sequential(\n",
    "                    nn.ConvTranspose2d(in_dim, out_dim, kernel_size=3, stride=2, padding=1, output_padding=1),\n",
    "                    nn.BatchNorm2d(out_dim),\n",
    "                    nn.LeakyReLU()\n",
    "                )\n",
    "            )\n",
    "\n",
    "        self.decoder_input = nn.Linear(latent_dim, dims[-1]*4)\n",
    "\n",
    "        self.decoder = nn.Sequential(*layers)\n",
    "\n",
    "        self.decoder_output = nn.Sequential(\n",
    "            nn.ConvTranspose2d(dims[-1], dims[-1], kernel_size=3, stride=2, padding=1, output_padding=1),\n",
    "            nn.BatchNorm2d(dims[-1]),\n",
    "            nn.LeakyReLU(),\n",
    "            nn.Conv2d(dims[-1], out_channels=out_channels, kernel_size=3, padding=1),\n",
    "            nn.Tanh()\n",
    "        )\n",
    "\n",
    "    def forward(self, x):\n",
    "        x = self.decoder_input(x)\n",
    "        x = x.view(-1, 512, 2, 2)\n",
    "        x = self.decoder(x)\n",
    "        x = self.decoder_output(x)\n",
    "\n",
    "        return x"
   ]
  },
  {
   "cell_type": "code",
   "execution_count": 7,
   "id": "827c97db-3c2f-4ed8-9bc8-d5d54cfd965a",
   "metadata": {},
   "outputs": [],
   "source": [
    "class VAE(nn.Module):\n",
    "    def __init__(self, encoder, decoder):\n",
    "        super().__init__()\n",
    "        self.encoder = encoder\n",
    "        self.decoder = decoder\n",
    "\n",
    "    def reparameterise(self, mu, log_var):\n",
    "        std = torch.exp(0.5 * log_var)\n",
    "        eps = torch.rand_like(std)\n",
    "\n",
    "        return eps * std + mu\n",
    "\n",
    "    def forward(self, x):\n",
    "        mu, log_var = self.encoder(x)\n",
    "        z = self.reparameterise(mu, log_var)\n",
    "        out = self.decoder(z)\n",
    "\n",
    "        return out, mu, log_var"
   ]
  },
  {
   "cell_type": "code",
   "execution_count": null,
   "id": "93fb892e-dd37-4d6f-8479-0839c0720975",
   "metadata": {},
   "outputs": [],
   "source": []
  }
 ],
 "metadata": {
  "kernelspec": {
   "display_name": "Python 3 (ipykernel)",
   "language": "python",
   "name": "python3"
  },
  "language_info": {
   "codemirror_mode": {
    "name": "ipython",
    "version": 3
   },
   "file_extension": ".py",
   "mimetype": "text/x-python",
   "name": "python",
   "nbconvert_exporter": "python",
   "pygments_lexer": "ipython3",
   "version": "3.10.12"
  }
 },
 "nbformat": 4,
 "nbformat_minor": 5
}
